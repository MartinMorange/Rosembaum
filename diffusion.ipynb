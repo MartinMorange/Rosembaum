{
 "cells": [
  {
   "cell_type": "markdown",
   "metadata": {},
   "source": [
    "# Statistiques des diffusions"
   ]
  },
  {
   "cell_type": "code",
   "execution_count": 1,
   "metadata": {},
   "outputs": [],
   "source": [
    "import pandas as pd\n",
    "import numpy as np\n",
    "import seaborn as sns\n",
    "import matplotlib.pyplot as plt\n",
    "import statsmodels.api as sm"
   ]
  },
  {
   "cell_type": "code",
   "execution_count": 2,
   "metadata": {},
   "outputs": [],
   "source": [
    "df1 = pd.read_csv('datasets/Q_06_latest-2023-2024_RR-T-Vent.csv', sep= ';')\n",
    "df2 = pd.read_csv('datasets/Q_06_previous-1950-2022_RR-T-Vent.csv', sep = ';')"
   ]
  },
  {
   "cell_type": "markdown",
   "metadata": {},
   "source": [
    "### Préambule\n",
    "Par définition un processus de diffusion est un processus de Markov fort à trajectoires continues. Dans ce cas ces processus sont solutions de l'équation : $$ d X_{t}=b\\left(\\theta,\\,X_{t}\\right)+ \\sigma\\,dW_{t}$$\n",
    "\n",
    "où $W$ est une mouvement brownien standard.\n",
    "Ils permettent de modéliser des phénomènes qui se diffusent dans le temps, en fonctions de fluctuations aléatoires. Dans notre cas nous allons appliquer ces modèles statistiques à nos odnnées sur la température.\n",
    "\n",
    "L'idée sous jacente est que notre processus, ici noté $X(t)$ et qui représente la température est à la fois conséquence d'un phénomène déterministe (la température précédente, des saisons, des mois) et d'une phénomène stochastique (les aléas du climat), que l'on va représenter par un mouvement brownien. \n",
    "\n",
    "Dans notre étude on se restreindra aux modèles de diffusion stationnaire ($\\sigma$ ne dépend pas du temps) et l'on va chercher à estimer le paramètre $\\theta$ inconnu.\n",
    "\n",
    "### Modèles \n"
   ]
  },
  {
   "cell_type": "markdown",
   "metadata": {},
   "source": [
    "- Saisonnalité annuelle + semestrielle\n",
    "- Tendance à la hausse vérifiée mais... irrégulière\n",
    "- Dispersion saisonnière : dispersion plus élevée en hiver et asymétrie des températures hivernales\n",
    "- Prédicteur le plus pertinent pour prévoir la température en un lieu donné ? La température de la veille ou les températures des 3 jours récédents"
   ]
  },
  {
   "cell_type": "markdown",
   "metadata": {},
   "source": [
    "## Différents modèles pour la modélisation de la température"
   ]
  },
  {
   "cell_type": "markdown",
   "metadata": {},
   "source": [
    "Modèle d'Ornstein-Uhlenbeck : \n",
    "$$ d T_{t}=\\alpha_{t}\\left(\\theta_{t}-T_{t}\\right)d t+\\sigma_{t}d W_{t}\n",
    "$$\n",
    "\n",
    "Modèle de Dornier :\n",
    "$$ dT_{t}=\\left\\{{\\frac{d\\theta_{t}}{d t}}+\\alpha\\left(\\theta_{t}-T_{t}\\right)\\right\\}d t+\\sigma_{t}d W_{t} $$\n",
    "Modèle à mémoire longue (Ornstein-Uhlenbeck fractionnaire):\n",
    "$$ d T_{t}=\\alpha\\left(\\theta_{t}-T_{t}\\right)d t+\\sigma_{t}d W_{t}^H\n",
    "$$\n",
    "Avec MB fractionnaire, pas gaussien et continu tel que : $E[ W_{t}^{H}{ W}_{s}^{H}] = \\frac{1}{2}(t^{2H} +s^{2H}-\\vert t-s \\vert^{2H})$\n",
    "\n",
    "\n",
    "Modèle à mémoire longue : ARFIMA\n",
    "$$ \\Phi(B)(1-B)^{d}X_t=\\Theta(B)\\varepsilon_{t},\\: 0<d<\\frac{1}{2}$$ \n",
    "\n",
    "$$ dT_{t}=\\left\\{{\\frac{d\\theta_{t}}{d t}}+\\alpha\\left(\\theta_{t}-T_{t}\\right)\\right\\}d t+\\sigma_{t}d W_{t} $$"
   ]
  },
  {
   "cell_type": "markdown",
   "metadata": {},
   "source": [
    "https://core.ac.uk/download/pdf/52622984.pdf"
   ]
  },
  {
   "cell_type": "markdown",
   "metadata": {},
   "source": [
    "## Estimation par maximum de Vraisemblance"
   ]
  },
  {
   "cell_type": "markdown",
   "metadata": {},
   "source": [
    "## Estimation par minimum de contraste"
   ]
  },
  {
   "cell_type": "markdown",
   "metadata": {},
   "source": [
    "## Méthodes empiriques"
   ]
  }
 ],
 "metadata": {
  "kernelspec": {
   "display_name": "venv",
   "language": "python",
   "name": "python3"
  },
  "language_info": {
   "codemirror_mode": {
    "name": "ipython",
    "version": 3
   },
   "file_extension": ".py",
   "mimetype": "text/x-python",
   "name": "python",
   "nbconvert_exporter": "python",
   "pygments_lexer": "ipython3",
   "version": "3.9.18"
  }
 },
 "nbformat": 4,
 "nbformat_minor": 2
}
